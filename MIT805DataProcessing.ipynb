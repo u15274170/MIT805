{
  "nbformat": 4,
  "nbformat_minor": 0,
  "metadata": {
    "colab": {
      "provenance": [],
      "collapsed_sections": []
    },
    "kernelspec": {
      "name": "python3",
      "display_name": "Python 3"
    },
    "language_info": {
      "name": "python"
    }
  },
  "cells": [
    {
      "cell_type": "code",
      "execution_count": 28,
      "metadata": {
        "id": "kFUGvpoGsigC"
      },
      "outputs": [],
      "source": [
        "import pandas as pd\n",
        "from google.colab import drive"
      ]
    },
    {
      "cell_type": "code",
      "source": [
        "#Mount google drive\n",
        "drive.mount('/content/gdrive')"
      ],
      "metadata": {
        "colab": {
          "base_uri": "https://localhost:8080/"
        },
        "id": "sFv27AM1tZBi",
        "outputId": "45f6556b-ac75-43f7-fdfc-ea8dfdd378d4"
      },
      "execution_count": 29,
      "outputs": [
        {
          "output_type": "stream",
          "name": "stdout",
          "text": [
            "Drive already mounted at /content/gdrive; to attempt to forcibly remount, call drive.mount(\"/content/gdrive\", force_remount=True).\n"
          ]
        }
      ]
    },
    {
      "cell_type": "code",
      "source": [
        "# Remove invalid characters from text\n",
        "def remove_character_from_text(text,remove_characters):\n",
        "    for char in remove_characters:\n",
        "            text = [excerpt.replace(char, '') for excerpt in text]\n",
        "    return text"
      ],
      "metadata": {
        "id": "rxR_qHPmKcIV"
      },
      "execution_count": 30,
      "outputs": []
    },
    {
      "cell_type": "code",
      "source": [
        "#Print unique column values in data frame\n",
        "def print_unique_col_values(df):\n",
        "  for column in df:\n",
        "    print(f'{column} : {df[column].unique()}')"
      ],
      "metadata": {
        "id": "q9byood0GmXY"
      },
      "execution_count": 31,
      "outputs": []
    },
    {
      "cell_type": "code",
      "source": [
        "#Loading datasets into pandas \n",
        "articles_df = pd.read_csv(r'/content/gdrive/MyDrive/Datasets/h&m/articles.csv')\n",
        "customers_df = pd.read_csv(r'/content/gdrive/MyDrive/Datasets/h&m/customers.csv')\n",
        "transactions_df = pd.read_csv(r'/content/gdrive/MyDrive/Datasets/h&m/transactions_train.csv')"
      ],
      "metadata": {
        "id": "2dCPqfk6uc5g"
      },
      "execution_count": 32,
      "outputs": []
    },
    {
      "cell_type": "code",
      "source": [
        "REMOVE_CHARACTERS = [\",\"]"
      ],
      "metadata": {
        "id": "zEYaGBTwK0Ca"
      },
      "execution_count": 33,
      "outputs": []
    },
    {
      "cell_type": "code",
      "source": [
        "articles_df = articles_df.dropna()\n",
        "customers_df = customers_df.dropna()\n",
        "transactions_df = transactions_df.dropna()"
      ],
      "metadata": {
        "id": "jlNxSgkOE6mC"
      },
      "execution_count": 34,
      "outputs": []
    },
    {
      "cell_type": "code",
      "source": [
        "articles_df[\"prod_name\"] = remove_character_from_text(articles_df[\"prod_name\"], REMOVE_CHARACTERS) \n",
        "articles_df[\"product_type_name\"] = remove_character_from_text(articles_df[\"product_type_name\"], REMOVE_CHARACTERS)\n",
        "articles_df[\"product_group_name\"] = remove_character_from_text(articles_df[\"product_group_name\"], REMOVE_CHARACTERS)\n",
        "articles_df[\"graphical_appearance_name\"] = remove_character_from_text(articles_df[\"graphical_appearance_name\"], REMOVE_CHARACTERS)\n",
        "articles_df[\"colour_group_name\"] = remove_character_from_text(articles_df[\"colour_group_name\"], REMOVE_CHARACTERS)\n",
        "articles_df[\"perceived_colour_value_name\"] = remove_character_from_text(articles_df[\"perceived_colour_value_name\"], REMOVE_CHARACTERS)\n",
        "articles_df[\"perceived_colour_master_name\"] = remove_character_from_text(articles_df[\"perceived_colour_master_name\"], REMOVE_CHARACTERS)\n",
        "articles_df[\"department_name\"] = remove_character_from_text(articles_df[\"department_name\"], REMOVE_CHARACTERS)     \n",
        "articles_df[\"index_name\"] = remove_character_from_text(articles_df[\"index_name\"], REMOVE_CHARACTERS) \n",
        "articles_df[\"index_group_name\"] = remove_character_from_text(articles_df[\"index_group_name\"], REMOVE_CHARACTERS) \n",
        "articles_df[\"section_name\"] = remove_character_from_text(articles_df[\"section_name\"], REMOVE_CHARACTERS) \n",
        "articles_df[\"garment_group_name\"] = remove_character_from_text(articles_df[\"garment_group_name\"], REMOVE_CHARACTERS)\n",
        "articles_df[\"detail_desc\"] = remove_character_from_text(articles_df[\"detail_desc\"], REMOVE_CHARACTERS)"
      ],
      "metadata": {
        "id": "AbLaqSE7GEO_"
      },
      "execution_count": 35,
      "outputs": []
    },
    {
      "cell_type": "code",
      "source": [
        "customers_df[\"club_member_status\"] = remove_character_from_text(customers_df[\"club_member_status\"], REMOVE_CHARACTERS) \n",
        "customers_df[\"fashion_news_frequency\"] = remove_character_from_text(customers_df[\"fashion_news_frequency\"], REMOVE_CHARACTERS) \n",
        "customers_df[\"postal_code\"] = remove_character_from_text(customers_df[\"postal_code\"], REMOVE_CHARACTERS) "
      ],
      "metadata": {
        "id": "RVnmJLbyR8gq"
      },
      "execution_count": 36,
      "outputs": []
    },
    {
      "cell_type": "code",
      "source": [
        "transactions_df"
      ],
      "metadata": {
        "id": "X2_ihEKEKuNh",
        "outputId": "a8b80239-fc97-450b-a450-c6aed849e556",
        "colab": {
          "base_uri": "https://localhost:8080/",
          "height": 424
        }
      },
      "execution_count": 37,
      "outputs": [
        {
          "output_type": "execute_result",
          "data": {
            "text/plain": [
              "               t_dat                                        customer_id  \\\n",
              "0         2018-09-20  000058a12d5b43e67d225668fa1f8d618c13dc232df0ca...   \n",
              "1         2018-09-20  000058a12d5b43e67d225668fa1f8d618c13dc232df0ca...   \n",
              "2         2018-09-20  00007d2de826758b65a93dd24ce629ed66842531df6699...   \n",
              "3         2018-09-20  00007d2de826758b65a93dd24ce629ed66842531df6699...   \n",
              "4         2018-09-20  00007d2de826758b65a93dd24ce629ed66842531df6699...   \n",
              "...              ...                                                ...   \n",
              "31788319  2020-09-22  fff2282977442e327b45d8c89afde25617d00124d0f999...   \n",
              "31788320  2020-09-22  fff2282977442e327b45d8c89afde25617d00124d0f999...   \n",
              "31788321  2020-09-22  fff380805474b287b05cb2a7507b9a013482f7dd0bce0e...   \n",
              "31788322  2020-09-22  fff4d3a8b1f3b60af93e78c30a7cb4cf75edaf2590d3e5...   \n",
              "31788323  2020-09-22  fffef3b6b73545df065b521e19f64bf6fe93bfd450ab20...   \n",
              "\n",
              "          article_id     price  sales_channel_id  \n",
              "0          663713001  0.050831                 2  \n",
              "1          541518023  0.030492                 2  \n",
              "2          505221004  0.015237                 2  \n",
              "3          685687003  0.016932                 2  \n",
              "4          685687004  0.016932                 2  \n",
              "...              ...       ...               ...  \n",
              "31788319   929511001  0.059305                 2  \n",
              "31788320   891322004  0.042356                 2  \n",
              "31788321   918325001  0.043203                 1  \n",
              "31788322   833459002  0.006763                 1  \n",
              "31788323   898573003  0.033881                 2  \n",
              "\n",
              "[31788324 rows x 5 columns]"
            ],
            "text/html": [
              "\n",
              "  <div id=\"df-3b47c3d1-26ea-4d78-b910-07b64fd470f1\">\n",
              "    <div class=\"colab-df-container\">\n",
              "      <div>\n",
              "<style scoped>\n",
              "    .dataframe tbody tr th:only-of-type {\n",
              "        vertical-align: middle;\n",
              "    }\n",
              "\n",
              "    .dataframe tbody tr th {\n",
              "        vertical-align: top;\n",
              "    }\n",
              "\n",
              "    .dataframe thead th {\n",
              "        text-align: right;\n",
              "    }\n",
              "</style>\n",
              "<table border=\"1\" class=\"dataframe\">\n",
              "  <thead>\n",
              "    <tr style=\"text-align: right;\">\n",
              "      <th></th>\n",
              "      <th>t_dat</th>\n",
              "      <th>customer_id</th>\n",
              "      <th>article_id</th>\n",
              "      <th>price</th>\n",
              "      <th>sales_channel_id</th>\n",
              "    </tr>\n",
              "  </thead>\n",
              "  <tbody>\n",
              "    <tr>\n",
              "      <th>0</th>\n",
              "      <td>2018-09-20</td>\n",
              "      <td>000058a12d5b43e67d225668fa1f8d618c13dc232df0ca...</td>\n",
              "      <td>663713001</td>\n",
              "      <td>0.050831</td>\n",
              "      <td>2</td>\n",
              "    </tr>\n",
              "    <tr>\n",
              "      <th>1</th>\n",
              "      <td>2018-09-20</td>\n",
              "      <td>000058a12d5b43e67d225668fa1f8d618c13dc232df0ca...</td>\n",
              "      <td>541518023</td>\n",
              "      <td>0.030492</td>\n",
              "      <td>2</td>\n",
              "    </tr>\n",
              "    <tr>\n",
              "      <th>2</th>\n",
              "      <td>2018-09-20</td>\n",
              "      <td>00007d2de826758b65a93dd24ce629ed66842531df6699...</td>\n",
              "      <td>505221004</td>\n",
              "      <td>0.015237</td>\n",
              "      <td>2</td>\n",
              "    </tr>\n",
              "    <tr>\n",
              "      <th>3</th>\n",
              "      <td>2018-09-20</td>\n",
              "      <td>00007d2de826758b65a93dd24ce629ed66842531df6699...</td>\n",
              "      <td>685687003</td>\n",
              "      <td>0.016932</td>\n",
              "      <td>2</td>\n",
              "    </tr>\n",
              "    <tr>\n",
              "      <th>4</th>\n",
              "      <td>2018-09-20</td>\n",
              "      <td>00007d2de826758b65a93dd24ce629ed66842531df6699...</td>\n",
              "      <td>685687004</td>\n",
              "      <td>0.016932</td>\n",
              "      <td>2</td>\n",
              "    </tr>\n",
              "    <tr>\n",
              "      <th>...</th>\n",
              "      <td>...</td>\n",
              "      <td>...</td>\n",
              "      <td>...</td>\n",
              "      <td>...</td>\n",
              "      <td>...</td>\n",
              "    </tr>\n",
              "    <tr>\n",
              "      <th>31788319</th>\n",
              "      <td>2020-09-22</td>\n",
              "      <td>fff2282977442e327b45d8c89afde25617d00124d0f999...</td>\n",
              "      <td>929511001</td>\n",
              "      <td>0.059305</td>\n",
              "      <td>2</td>\n",
              "    </tr>\n",
              "    <tr>\n",
              "      <th>31788320</th>\n",
              "      <td>2020-09-22</td>\n",
              "      <td>fff2282977442e327b45d8c89afde25617d00124d0f999...</td>\n",
              "      <td>891322004</td>\n",
              "      <td>0.042356</td>\n",
              "      <td>2</td>\n",
              "    </tr>\n",
              "    <tr>\n",
              "      <th>31788321</th>\n",
              "      <td>2020-09-22</td>\n",
              "      <td>fff380805474b287b05cb2a7507b9a013482f7dd0bce0e...</td>\n",
              "      <td>918325001</td>\n",
              "      <td>0.043203</td>\n",
              "      <td>1</td>\n",
              "    </tr>\n",
              "    <tr>\n",
              "      <th>31788322</th>\n",
              "      <td>2020-09-22</td>\n",
              "      <td>fff4d3a8b1f3b60af93e78c30a7cb4cf75edaf2590d3e5...</td>\n",
              "      <td>833459002</td>\n",
              "      <td>0.006763</td>\n",
              "      <td>1</td>\n",
              "    </tr>\n",
              "    <tr>\n",
              "      <th>31788323</th>\n",
              "      <td>2020-09-22</td>\n",
              "      <td>fffef3b6b73545df065b521e19f64bf6fe93bfd450ab20...</td>\n",
              "      <td>898573003</td>\n",
              "      <td>0.033881</td>\n",
              "      <td>2</td>\n",
              "    </tr>\n",
              "  </tbody>\n",
              "</table>\n",
              "<p>31788324 rows × 5 columns</p>\n",
              "</div>\n",
              "      <button class=\"colab-df-convert\" onclick=\"convertToInteractive('df-3b47c3d1-26ea-4d78-b910-07b64fd470f1')\"\n",
              "              title=\"Convert this dataframe to an interactive table.\"\n",
              "              style=\"display:none;\">\n",
              "        \n",
              "  <svg xmlns=\"http://www.w3.org/2000/svg\" height=\"24px\"viewBox=\"0 0 24 24\"\n",
              "       width=\"24px\">\n",
              "    <path d=\"M0 0h24v24H0V0z\" fill=\"none\"/>\n",
              "    <path d=\"M18.56 5.44l.94 2.06.94-2.06 2.06-.94-2.06-.94-.94-2.06-.94 2.06-2.06.94zm-11 1L8.5 8.5l.94-2.06 2.06-.94-2.06-.94L8.5 2.5l-.94 2.06-2.06.94zm10 10l.94 2.06.94-2.06 2.06-.94-2.06-.94-.94-2.06-.94 2.06-2.06.94z\"/><path d=\"M17.41 7.96l-1.37-1.37c-.4-.4-.92-.59-1.43-.59-.52 0-1.04.2-1.43.59L10.3 9.45l-7.72 7.72c-.78.78-.78 2.05 0 2.83L4 21.41c.39.39.9.59 1.41.59.51 0 1.02-.2 1.41-.59l7.78-7.78 2.81-2.81c.8-.78.8-2.07 0-2.86zM5.41 20L4 18.59l7.72-7.72 1.47 1.35L5.41 20z\"/>\n",
              "  </svg>\n",
              "      </button>\n",
              "      \n",
              "  <style>\n",
              "    .colab-df-container {\n",
              "      display:flex;\n",
              "      flex-wrap:wrap;\n",
              "      gap: 12px;\n",
              "    }\n",
              "\n",
              "    .colab-df-convert {\n",
              "      background-color: #E8F0FE;\n",
              "      border: none;\n",
              "      border-radius: 50%;\n",
              "      cursor: pointer;\n",
              "      display: none;\n",
              "      fill: #1967D2;\n",
              "      height: 32px;\n",
              "      padding: 0 0 0 0;\n",
              "      width: 32px;\n",
              "    }\n",
              "\n",
              "    .colab-df-convert:hover {\n",
              "      background-color: #E2EBFA;\n",
              "      box-shadow: 0px 1px 2px rgba(60, 64, 67, 0.3), 0px 1px 3px 1px rgba(60, 64, 67, 0.15);\n",
              "      fill: #174EA6;\n",
              "    }\n",
              "\n",
              "    [theme=dark] .colab-df-convert {\n",
              "      background-color: #3B4455;\n",
              "      fill: #D2E3FC;\n",
              "    }\n",
              "\n",
              "    [theme=dark] .colab-df-convert:hover {\n",
              "      background-color: #434B5C;\n",
              "      box-shadow: 0px 1px 3px 1px rgba(0, 0, 0, 0.15);\n",
              "      filter: drop-shadow(0px 1px 2px rgba(0, 0, 0, 0.3));\n",
              "      fill: #FFFFFF;\n",
              "    }\n",
              "  </style>\n",
              "\n",
              "      <script>\n",
              "        const buttonEl =\n",
              "          document.querySelector('#df-3b47c3d1-26ea-4d78-b910-07b64fd470f1 button.colab-df-convert');\n",
              "        buttonEl.style.display =\n",
              "          google.colab.kernel.accessAllowed ? 'block' : 'none';\n",
              "\n",
              "        async function convertToInteractive(key) {\n",
              "          const element = document.querySelector('#df-3b47c3d1-26ea-4d78-b910-07b64fd470f1');\n",
              "          const dataTable =\n",
              "            await google.colab.kernel.invokeFunction('convertToInteractive',\n",
              "                                                     [key], {});\n",
              "          if (!dataTable) return;\n",
              "\n",
              "          const docLinkHtml = 'Like what you see? Visit the ' +\n",
              "            '<a target=\"_blank\" href=https://colab.research.google.com/notebooks/data_table.ipynb>data table notebook</a>'\n",
              "            + ' to learn more about interactive tables.';\n",
              "          element.innerHTML = '';\n",
              "          dataTable['output_type'] = 'display_data';\n",
              "          await google.colab.output.renderOutput(dataTable, element);\n",
              "          const docLink = document.createElement('div');\n",
              "          docLink.innerHTML = docLinkHtml;\n",
              "          element.appendChild(docLink);\n",
              "        }\n",
              "      </script>\n",
              "    </div>\n",
              "  </div>\n",
              "  "
            ]
          },
          "metadata": {},
          "execution_count": 37
        }
      ]
    },
    {
      "cell_type": "code",
      "source": [
        "def year_of_transaction(value):\n",
        "    if '2020' in value:\n",
        "        return \"2020\"\n",
        "    elif '2019' in value:\n",
        "        return \"2019\"\n",
        "    elif '2018' in value:\n",
        "        return \"2018\"\n",
        " \n",
        "transactions_df['year'] = transactions_df['t_dat'].map(year_of_transaction)\n"
      ],
      "metadata": {
        "colab": {
          "base_uri": "https://localhost:8080/",
          "height": 206
        },
        "id": "gbo5D16JcRaL",
        "outputId": "f72e0a09-6d93-458f-fb36-a928cdbae5c1"
      },
      "execution_count": 39,
      "outputs": [
        {
          "output_type": "display_data",
          "data": {
            "text/plain": [
              "        t_dat                                        customer_id  article_id  \\\n",
              "0  2018-09-20  000058a12d5b43e67d225668fa1f8d618c13dc232df0ca...   663713001   \n",
              "1  2018-09-20  000058a12d5b43e67d225668fa1f8d618c13dc232df0ca...   541518023   \n",
              "2  2018-09-20  00007d2de826758b65a93dd24ce629ed66842531df6699...   505221004   \n",
              "3  2018-09-20  00007d2de826758b65a93dd24ce629ed66842531df6699...   685687003   \n",
              "4  2018-09-20  00007d2de826758b65a93dd24ce629ed66842531df6699...   685687004   \n",
              "\n",
              "      price  sales_channel_id  year  \n",
              "0  0.050831                 2  2018  \n",
              "1  0.030492                 2  2018  \n",
              "2  0.015237                 2  2018  \n",
              "3  0.016932                 2  2018  \n",
              "4  0.016932                 2  2018  "
            ],
            "text/html": [
              "\n",
              "  <div id=\"df-3b44478b-de15-4423-98a3-d055c2e87ab1\">\n",
              "    <div class=\"colab-df-container\">\n",
              "      <div>\n",
              "<style scoped>\n",
              "    .dataframe tbody tr th:only-of-type {\n",
              "        vertical-align: middle;\n",
              "    }\n",
              "\n",
              "    .dataframe tbody tr th {\n",
              "        vertical-align: top;\n",
              "    }\n",
              "\n",
              "    .dataframe thead th {\n",
              "        text-align: right;\n",
              "    }\n",
              "</style>\n",
              "<table border=\"1\" class=\"dataframe\">\n",
              "  <thead>\n",
              "    <tr style=\"text-align: right;\">\n",
              "      <th></th>\n",
              "      <th>t_dat</th>\n",
              "      <th>customer_id</th>\n",
              "      <th>article_id</th>\n",
              "      <th>price</th>\n",
              "      <th>sales_channel_id</th>\n",
              "      <th>year</th>\n",
              "    </tr>\n",
              "  </thead>\n",
              "  <tbody>\n",
              "    <tr>\n",
              "      <th>0</th>\n",
              "      <td>2018-09-20</td>\n",
              "      <td>000058a12d5b43e67d225668fa1f8d618c13dc232df0ca...</td>\n",
              "      <td>663713001</td>\n",
              "      <td>0.050831</td>\n",
              "      <td>2</td>\n",
              "      <td>2018</td>\n",
              "    </tr>\n",
              "    <tr>\n",
              "      <th>1</th>\n",
              "      <td>2018-09-20</td>\n",
              "      <td>000058a12d5b43e67d225668fa1f8d618c13dc232df0ca...</td>\n",
              "      <td>541518023</td>\n",
              "      <td>0.030492</td>\n",
              "      <td>2</td>\n",
              "      <td>2018</td>\n",
              "    </tr>\n",
              "    <tr>\n",
              "      <th>2</th>\n",
              "      <td>2018-09-20</td>\n",
              "      <td>00007d2de826758b65a93dd24ce629ed66842531df6699...</td>\n",
              "      <td>505221004</td>\n",
              "      <td>0.015237</td>\n",
              "      <td>2</td>\n",
              "      <td>2018</td>\n",
              "    </tr>\n",
              "    <tr>\n",
              "      <th>3</th>\n",
              "      <td>2018-09-20</td>\n",
              "      <td>00007d2de826758b65a93dd24ce629ed66842531df6699...</td>\n",
              "      <td>685687003</td>\n",
              "      <td>0.016932</td>\n",
              "      <td>2</td>\n",
              "      <td>2018</td>\n",
              "    </tr>\n",
              "    <tr>\n",
              "      <th>4</th>\n",
              "      <td>2018-09-20</td>\n",
              "      <td>00007d2de826758b65a93dd24ce629ed66842531df6699...</td>\n",
              "      <td>685687004</td>\n",
              "      <td>0.016932</td>\n",
              "      <td>2</td>\n",
              "      <td>2018</td>\n",
              "    </tr>\n",
              "  </tbody>\n",
              "</table>\n",
              "</div>\n",
              "      <button class=\"colab-df-convert\" onclick=\"convertToInteractive('df-3b44478b-de15-4423-98a3-d055c2e87ab1')\"\n",
              "              title=\"Convert this dataframe to an interactive table.\"\n",
              "              style=\"display:none;\">\n",
              "        \n",
              "  <svg xmlns=\"http://www.w3.org/2000/svg\" height=\"24px\"viewBox=\"0 0 24 24\"\n",
              "       width=\"24px\">\n",
              "    <path d=\"M0 0h24v24H0V0z\" fill=\"none\"/>\n",
              "    <path d=\"M18.56 5.44l.94 2.06.94-2.06 2.06-.94-2.06-.94-.94-2.06-.94 2.06-2.06.94zm-11 1L8.5 8.5l.94-2.06 2.06-.94-2.06-.94L8.5 2.5l-.94 2.06-2.06.94zm10 10l.94 2.06.94-2.06 2.06-.94-2.06-.94-.94-2.06-.94 2.06-2.06.94z\"/><path d=\"M17.41 7.96l-1.37-1.37c-.4-.4-.92-.59-1.43-.59-.52 0-1.04.2-1.43.59L10.3 9.45l-7.72 7.72c-.78.78-.78 2.05 0 2.83L4 21.41c.39.39.9.59 1.41.59.51 0 1.02-.2 1.41-.59l7.78-7.78 2.81-2.81c.8-.78.8-2.07 0-2.86zM5.41 20L4 18.59l7.72-7.72 1.47 1.35L5.41 20z\"/>\n",
              "  </svg>\n",
              "      </button>\n",
              "      \n",
              "  <style>\n",
              "    .colab-df-container {\n",
              "      display:flex;\n",
              "      flex-wrap:wrap;\n",
              "      gap: 12px;\n",
              "    }\n",
              "\n",
              "    .colab-df-convert {\n",
              "      background-color: #E8F0FE;\n",
              "      border: none;\n",
              "      border-radius: 50%;\n",
              "      cursor: pointer;\n",
              "      display: none;\n",
              "      fill: #1967D2;\n",
              "      height: 32px;\n",
              "      padding: 0 0 0 0;\n",
              "      width: 32px;\n",
              "    }\n",
              "\n",
              "    .colab-df-convert:hover {\n",
              "      background-color: #E2EBFA;\n",
              "      box-shadow: 0px 1px 2px rgba(60, 64, 67, 0.3), 0px 1px 3px 1px rgba(60, 64, 67, 0.15);\n",
              "      fill: #174EA6;\n",
              "    }\n",
              "\n",
              "    [theme=dark] .colab-df-convert {\n",
              "      background-color: #3B4455;\n",
              "      fill: #D2E3FC;\n",
              "    }\n",
              "\n",
              "    [theme=dark] .colab-df-convert:hover {\n",
              "      background-color: #434B5C;\n",
              "      box-shadow: 0px 1px 3px 1px rgba(0, 0, 0, 0.15);\n",
              "      filter: drop-shadow(0px 1px 2px rgba(0, 0, 0, 0.3));\n",
              "      fill: #FFFFFF;\n",
              "    }\n",
              "  </style>\n",
              "\n",
              "      <script>\n",
              "        const buttonEl =\n",
              "          document.querySelector('#df-3b44478b-de15-4423-98a3-d055c2e87ab1 button.colab-df-convert');\n",
              "        buttonEl.style.display =\n",
              "          google.colab.kernel.accessAllowed ? 'block' : 'none';\n",
              "\n",
              "        async function convertToInteractive(key) {\n",
              "          const element = document.querySelector('#df-3b44478b-de15-4423-98a3-d055c2e87ab1');\n",
              "          const dataTable =\n",
              "            await google.colab.kernel.invokeFunction('convertToInteractive',\n",
              "                                                     [key], {});\n",
              "          if (!dataTable) return;\n",
              "\n",
              "          const docLinkHtml = 'Like what you see? Visit the ' +\n",
              "            '<a target=\"_blank\" href=https://colab.research.google.com/notebooks/data_table.ipynb>data table notebook</a>'\n",
              "            + ' to learn more about interactive tables.';\n",
              "          element.innerHTML = '';\n",
              "          dataTable['output_type'] = 'display_data';\n",
              "          await google.colab.output.renderOutput(dataTable, element);\n",
              "          const docLink = document.createElement('div');\n",
              "          docLink.innerHTML = docLinkHtml;\n",
              "          element.appendChild(docLink);\n",
              "        }\n",
              "      </script>\n",
              "    </div>\n",
              "  </div>\n",
              "  "
            ]
          },
          "metadata": {}
        }
      ]
    },
    {
      "cell_type": "code",
      "source": [
        "def year_of_transaction(value):\n",
        "    if '-01-' in value:\n",
        "        return \"January\"\n",
        "    elif '-02-' in value:\n",
        "        return \"February\"\n",
        "    elif '-03-' in value:\n",
        "        return \"March\"\n",
        "    elif '-04-' in value:\n",
        "        return \"April \"\n",
        "    elif '-05-' in value:\n",
        "        return \"May \"\n",
        "    elif '-06-' in value:\n",
        "        return \"June \"\n",
        "    elif '-07-' in value:\n",
        "        return \"July \"\n",
        "    elif '-08-' in value:\n",
        "        return \"August \"\n",
        "    elif '-09-' in value:\n",
        "        return \"September \"\n",
        "    elif '-10-' in value:\n",
        "        return \"October \"\n",
        "    elif '-11-' in value:\n",
        "        return \"November \"\n",
        "    elif '-12-' in value:\n",
        "        return \"December \"\n",
        " \n",
        "transactions_df['month'] = transactions_df['t_dat'].map(year_of_transaction)"
      ],
      "metadata": {
        "id": "PE62aNGMd7CN"
      },
      "execution_count": 41,
      "outputs": []
    },
    {
      "cell_type": "markdown",
      "source": [
        "Save process files"
      ],
      "metadata": {
        "id": "BXva0KgC7ECN"
      }
    },
    {
      "cell_type": "code",
      "source": [
        "articles_df.to_csv(\"/content/gdrive/MyDrive/Datasets/output/product-meta-data.csv\", index=False)"
      ],
      "metadata": {
        "id": "SQ8b7Sxj6CPl"
      },
      "execution_count": null,
      "outputs": []
    },
    {
      "cell_type": "code",
      "source": [
        "customers_df.to_csv(\"/content/gdrive/MyDrive/Datasets/output/customer-meta-data.csv\", index=False)"
      ],
      "metadata": {
        "id": "HVKephJn6Lvq"
      },
      "execution_count": null,
      "outputs": []
    },
    {
      "cell_type": "code",
      "source": [
        "transactions_df.to_csv(\"/content/gdrive/MyDrive/Datasets/output/transaction-history.csv\", index=False)"
      ],
      "metadata": {
        "id": "J2d-Ib6e6MYS"
      },
      "execution_count": 46,
      "outputs": []
    }
  ]
}